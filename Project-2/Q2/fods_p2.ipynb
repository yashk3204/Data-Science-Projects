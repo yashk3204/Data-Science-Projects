{
  "nbformat": 4,
  "nbformat_minor": 0,
  "metadata": {
    "colab": {
      "provenance": []
    },
    "kernelspec": {
      "name": "python3",
      "display_name": "Python 3"
    },
    "language_info": {
      "name": "python"
    }
  },
  "cells": [
    {
      "cell_type": "code",
      "execution_count": 1,
      "metadata": {
        "id": "hdk2k_SrR4LX"
      },
      "outputs": [],
      "source": [
        "from google.colab import files\n",
        "import pandas as pd\n",
        "\n",
        "df = pd.read_csv(\"House_Price_Prediction.csv\")"
      ]
    },
    {
      "cell_type": "code",
      "source": [
        "df = pd.DataFrame(df)\n",
        "df.drop(['date'], axis=1, inplace=True)\n",
        "print(df.isnull().sum())"
      ],
      "metadata": {
        "colab": {
          "base_uri": "https://localhost:8080/"
        },
        "id": "TEJlMd1ISbHF",
        "outputId": "6fc1cb1a-7e74-4beb-d5d6-e60a181ec8fd"
      },
      "execution_count": 2,
      "outputs": [
        {
          "output_type": "stream",
          "name": "stdout",
          "text": [
            "price                0\n",
            "bedrooms             0\n",
            "grade                0\n",
            "has_basement         0\n",
            "living_in_m2         0\n",
            "renovated            0\n",
            "nice_view            0\n",
            "perfect_condition    0\n",
            "real_bathrooms       0\n",
            "has_lavatory         0\n",
            "single_floor         0\n",
            "month                0\n",
            "quartile_zone        0\n",
            "dtype: int64\n"
          ]
        }
      ]
    },
    {
      "cell_type": "code",
      "source": [
        "bool_cols = ['has_basement', 'renovated', 'nice_view', 'perfect_condition', 'has_lavatory', 'single_floor']\n",
        "df[bool_cols] = df[bool_cols].astype(float)"
      ],
      "metadata": {
        "id": "JFx8aCKpWRZ3"
      },
      "execution_count": 3,
      "outputs": []
    },
    {
      "cell_type": "code",
      "source": [
        "scaling_columns = ['bedrooms', 'grade', 'living_in_m2', 'real_bathrooms', 'month', 'quartile_zone']\n",
        "from sklearn.preprocessing import MinMaxScaler\n",
        "scaler = MinMaxScaler()\n",
        "df[scaling_columns] = scaler.fit_transform(df[scaling_columns])"
      ],
      "metadata": {
        "id": "fRwSer_VTHiV"
      },
      "execution_count": 4,
      "outputs": []
    },
    {
      "cell_type": "code",
      "source": [
        "y = df['price']\n",
        "x = df\n",
        "x = df.drop(['price'], axis=1)"
      ],
      "metadata": {
        "id": "7WTKqyCGX0Zd"
      },
      "execution_count": 6,
      "outputs": []
    },
    {
      "cell_type": "code",
      "source": [
        "import numpy as np\n",
        "\n",
        "def train_test_split_manual(X, y, test_size, random_seed=None):\n",
        "\n",
        "    X = np.array(X)\n",
        "    y = np.array(y)\n",
        "    assert 0.0 < test_size < 1.0, \"test_size must be a float between 0 and 1.\"\n",
        "    assert len(X) == len(y), \"X and y must have the same number of samples.\"\n",
        "\n",
        "    if random_seed is not None:\n",
        "        np.random.seed(random_seed)\n",
        "\n",
        "    n = len(X)\n",
        "    n_test = int(n * test_size)  # Number of test samples\n",
        "\n",
        "    # Shuffle indices\n",
        "    indices = np.arange(n)\n",
        "    np.random.shuffle(indices)\n",
        "\n",
        "    # Split indices for test and train\n",
        "    train_indices = indices[n_test:]\n",
        "    test_indices = indices[:n_test]\n",
        "\n",
        "    # Split the data\n",
        "    X_train, X_test = X[train_indices], X[test_indices]\n",
        "    y_train, y_test = y[train_indices], y[test_indices]\n",
        "\n",
        "    return X_train, X_test, y_train, y_test\n",
        "\n",
        "x_train, x_test, y_train, y_test = train_test_split_manual(x, y, test_size=0.2, random_seed=42)"
      ],
      "metadata": {
        "id": "8yE9uLVcrUb3"
      },
      "execution_count": 14,
      "outputs": []
    },
    {
      "cell_type": "code",
      "source": [
        "import numpy as np\n",
        "\n",
        "class LinearRegressionClosedForm:\n",
        "\n",
        "    def __init__(self):\n",
        "        self.weights = None\n",
        "\n",
        "    def fit(self, X, y):\n",
        "        bias = np.c_[np.ones(X.shape[0]), X] # Add a bias term (column of ones) to X\n",
        "        self.weights = np.linalg.inv(bias.T @ bias) @ bias.T @ y # Compute weights using the Normal Equation\n",
        "\n",
        "    def predict(self, X):\n",
        "        bias = np.c_[np.ones(X.shape[0]), X] # Add a bias term (column of ones) to X\n",
        "        return bias @ self.weights # Compute predictions"
      ],
      "metadata": {
        "id": "HTUsaPLebsmD"
      },
      "execution_count": 15,
      "outputs": []
    },
    {
      "cell_type": "code",
      "source": [
        "from sklearn.metrics import mean_squared_error\n",
        "\n",
        "def greedy_forward_selection(x_train, x_test, y_train, y_test, feature_names):\n",
        "\n",
        "  selected_features = []\n",
        "  remaining_features = list(feature_names)\n",
        "  best_mse = float(\"inf\")\n",
        "  model = LinearRegressionClosedForm()\n",
        "\n",
        "  while remaining_features:\n",
        "        best_feature = None\n",
        "        for feature in remaining_features:\n",
        "            features_to_test = selected_features + [feature]\n",
        "            feature_indices = [feature_names.index(f) for f in features_to_test]\n",
        "            model.fit(x_train[:, feature_indices], y_train)\n",
        "            predictions = model.predict(x_test[:, feature_indices])\n",
        "            mse = mean_squared_error(y_test, predictions)\n",
        "            if mse < best_mse:\n",
        "                best_mse = mse\n",
        "                best_feature = feature\n",
        "        if best_feature:\n",
        "            selected_features.append(best_feature)\n",
        "            remaining_features.remove(best_feature)\n",
        "        else:\n",
        "            break\n",
        "\n",
        "  return selected_features, best_mse"
      ],
      "metadata": {
        "id": "VEfacnf_2Pt7"
      },
      "execution_count": 12,
      "outputs": []
    },
    {
      "cell_type": "code",
      "source": [
        "selected_features, best_mse = greedy_forward_selection(x_train, x_test, y_train, y_test, list(x.columns))\n",
        "print(\"Selected Features:\", selected_features)\n",
        "print(\"Best MSE:\", best_mse)"
      ],
      "metadata": {
        "colab": {
          "base_uri": "https://localhost:8080/"
        },
        "id": "RMimPgdLV7T2",
        "outputId": "b3ca45ac-451f-4ee7-91ab-7c17513e8e8d"
      },
      "execution_count": 13,
      "outputs": [
        {
          "output_type": "stream",
          "name": "stdout",
          "text": [
            "Selected Features: ['quartile_zone', 'living_in_m2', 'grade', 'nice_view', 'perfect_condition', 'renovated', 'has_basement', 'has_lavatory', 'bedrooms', 'single_floor', 'month']\n",
            "Best MSE: 10853780660.519274\n"
          ]
        }
      ]
    },
    {
      "cell_type": "code",
      "source": [
        "def greedy_backward_selection(x_train, x_test, y_train, y_test):\n",
        "\n",
        "    selected_features = list(x_train.columns)  # Start with all features\n",
        "    best_mse = float(\"inf\")\n",
        "    model = LinearRegressionClosedForm()\n",
        "\n",
        "    while len(selected_features) > 0:\n",
        "        worst_feature = None\n",
        "        for feature in selected_features:\n",
        "            # Test removing one feature at a time\n",
        "            features_to_test = [f for f in selected_features if f != feature]\n",
        "            model.fit(x_train[features_to_test], y_train)\n",
        "            predictions = model.predict(x_test[features_to_test])\n",
        "            mse = mean_squared_error(y_test, predictions)\n",
        "            # Update the worst feature if MSE improves\n",
        "            if mse < best_mse:\n",
        "                best_mse = mse\n",
        "                worst_feature = feature\n",
        "        if worst_feature:\n",
        "            selected_features.remove(worst_feature)\n",
        "        else:\n",
        "            break\n",
        "\n",
        "    return selected_features, best_mse"
      ],
      "metadata": {
        "id": "_TBT1W4Zcl1n"
      },
      "execution_count": 9,
      "outputs": []
    },
    {
      "cell_type": "code",
      "source": [
        "selected_features, best_mse = greedy_backward_selection(x_train, x_test, y_train, y_test)\n",
        "print(\"Selected Features:\", selected_features)\n",
        "print(\"Best MSE:\", best_mse)"
      ],
      "metadata": {
        "colab": {
          "base_uri": "https://localhost:8080/"
        },
        "id": "YDM7olczcy__",
        "outputId": "aa6ee36e-aaf7-4125-cc43-22529dc8f985"
      },
      "execution_count": 10,
      "outputs": [
        {
          "output_type": "stream",
          "name": "stdout",
          "text": [
            "Selected Features: ['bedrooms', 'grade', 'has_basement', 'living_in_m2', 'renovated', 'nice_view', 'perfect_condition', 'has_lavatory', 'single_floor', 'month', 'quartile_zone']\n",
            "Best MSE: 10853780660.519266\n"
          ]
        }
      ]
    }
  ]
}