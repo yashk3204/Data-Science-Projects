{
  "nbformat": 4,
  "nbformat_minor": 0,
  "metadata": {
    "colab": {
      "provenance": []
    },
    "kernelspec": {
      "name": "python3",
      "display_name": "Python 3"
    },
    "language_info": {
      "name": "python"
    }
  },
  "cells": [
    {
      "cell_type": "code",
      "execution_count": 2,
      "metadata": {
        "id": "Degz_IouiHu4"
      },
      "outputs": [],
      "source": [
        "from google.colab import files\n",
        "import pandas as pd\n",
        "\n",
        "df = pd.read_csv(\"House_Price_Prediction.csv\")"
      ]
    },
    {
      "cell_type": "code",
      "source": [
        "df = pd.DataFrame(df)\n",
        "df.drop(['date'], axis=1, inplace=True)\n",
        "print(df.isnull().sum())"
      ],
      "metadata": {
        "colab": {
          "base_uri": "https://localhost:8080/"
        },
        "id": "iok6GzpFy6PD",
        "outputId": "76917b5d-4870-4dac-b269-62e06fe2ee84"
      },
      "execution_count": 3,
      "outputs": [
        {
          "output_type": "stream",
          "name": "stdout",
          "text": [
            "price                0\n",
            "bedrooms             0\n",
            "grade                0\n",
            "has_basement         0\n",
            "living_in_m2         0\n",
            "renovated            0\n",
            "nice_view            0\n",
            "perfect_condition    0\n",
            "real_bathrooms       0\n",
            "has_lavatory         0\n",
            "single_floor         0\n",
            "month                0\n",
            "quartile_zone        0\n",
            "dtype: int64\n"
          ]
        }
      ]
    },
    {
      "cell_type": "code",
      "source": [
        "bool_cols = ['has_basement', 'renovated', 'nice_view', 'perfect_condition', 'has_lavatory', 'single_floor']\n",
        "df[bool_cols] = df[bool_cols].astype(float)"
      ],
      "metadata": {
        "id": "Isz7MkW239k4"
      },
      "execution_count": 4,
      "outputs": []
    },
    {
      "cell_type": "code",
      "source": [
        "scaling_columns = ['bedrooms', 'grade', 'living_in_m2', 'real_bathrooms', 'month', 'quartile_zone']\n",
        "from sklearn.preprocessing import MinMaxScaler\n",
        "scaler = MinMaxScaler()\n",
        "df[scaling_columns] = scaler.fit_transform(df[scaling_columns])"
      ],
      "metadata": {
        "id": "-cct3ugH6d4l"
      },
      "execution_count": 5,
      "outputs": []
    },
    {
      "cell_type": "code",
      "source": [
        "from scipy.stats import spearmanr\n",
        "target = 'price'\n",
        "\n",
        "# Calculate Spearman correlation\n",
        "correlations = {\n",
        "    feature: spearmanr(df[feature], df[target]).correlation\n",
        "    for feature in df.columns if feature != target\n",
        "}\n",
        "\n",
        "# Rank features based on absolute correlation\n",
        "ranked_features = sorted(correlations, key=lambda x: abs(correlations[x]), reverse=True)"
      ],
      "metadata": {
        "id": "_pjsz3PK4iOW"
      },
      "execution_count": 6,
      "outputs": []
    },
    {
      "cell_type": "code",
      "source": [
        "import numpy as np\n",
        "\n",
        "class LinearRegressionClosedForm:\n",
        "\n",
        "    def __init__(self):\n",
        "        self.weights = None\n",
        "\n",
        "    def fit(self, X, y):\n",
        "        # Add a bias term (column of ones) to X\n",
        "        X_bias = np.c_[np.ones(X.shape[0]), X]\n",
        "        # Compute weights using the Normal Equation\n",
        "        self.weights = np.linalg.inv(X_bias.T @ X_bias) @ X_bias.T @ y\n",
        "\n",
        "    def predict(self, X):\n",
        "        # Add a bias term (column of ones) to X\n",
        "        X_bias = np.c_[np.ones(X.shape[0]), X]\n",
        "        # Compute predictions\n",
        "        return X_bias @ self.weights"
      ],
      "metadata": {
        "id": "3Q8ak5L_5ZI5"
      },
      "execution_count": 7,
      "outputs": []
    },
    {
      "cell_type": "code",
      "source": [
        "import numpy as np\n",
        "\n",
        "def train_test_split(X, y, test_size, random_seed=None):\n",
        "\n",
        "    X = np.array(X)\n",
        "    y = np.array(y)\n",
        "    assert 0.0 < test_size < 1.0, \"test_size must be a float between 0 and 1.\"\n",
        "    assert len(X) == len(y), \"X and y must have the same number of samples.\"\n",
        "\n",
        "    if random_seed is not None:\n",
        "        np.random.seed(random_seed)\n",
        "\n",
        "    n = len(X)\n",
        "    n_test = int(n * test_size)  # Number of test samples\n",
        "\n",
        "    # Shuffle indices\n",
        "    indices = np.arange(n)\n",
        "    np.random.shuffle(indices)\n",
        "\n",
        "    # Split indices for test and train\n",
        "    train_indices = indices[n_test:]\n",
        "    test_indices = indices[:n_test]\n",
        "\n",
        "    # Split the data\n",
        "    X_train, X_test = X[train_indices], X[test_indices]\n",
        "    y_train, y_test = y[train_indices], y[test_indices]\n",
        "\n",
        "    return X_train, X_test, y_train, y_test"
      ],
      "metadata": {
        "id": "8yE9uLVcrUb3"
      },
      "execution_count": 8,
      "outputs": []
    },
    {
      "cell_type": "code",
      "source": [
        "def mean_squared_error(y_true, y_pred):\n",
        "    y_true = np.array(y_true)\n",
        "    y_pred = np.array(y_pred)\n",
        "    assert len(y_true) == len(y_pred), \"y_true and y_pred must have the same number of elements.\"\n",
        "    mse = np.mean((y_true - y_pred) ** 2)\n",
        "    return mse"
      ],
      "metadata": {
        "id": "C0Jg37TMDSOx"
      },
      "execution_count": 9,
      "outputs": []
    },
    {
      "cell_type": "code",
      "source": [
        "results = []\n",
        "\n",
        "for i in range(1, len(ranked_features) + 1):\n",
        "    subset = ranked_features[:i]\n",
        "    X = df[subset]\n",
        "    y = df[target]\n",
        "\n",
        "    # Split data\n",
        "    X_train, X_test, y_train, y_test = train_test_split(X, y, test_size=0.2, random_seed=42)\n",
        "\n",
        "    # Train model\n",
        "    model = LinearRegressionClosedForm()\n",
        "    model.fit(X_train, y_train)\n",
        "\n",
        "    # Calculate errors\n",
        "    train_error = mean_squared_error(y_train, model.predict(X_train))\n",
        "    test_error = mean_squared_error(y_test, model.predict(X_test))\n",
        "\n",
        "    results.append({\n",
        "        \"Feature Count\": i,\n",
        "        \"Selected Features\": subset,\n",
        "        \"Train Error\": train_error,\n",
        "        \"Test Error\": test_error\n",
        "    })"
      ],
      "metadata": {
        "id": "9riWyiM_5TWi"
      },
      "execution_count": 10,
      "outputs": []
    },
    {
      "cell_type": "code",
      "source": [
        "print(results)"
      ],
      "metadata": {
        "colab": {
          "base_uri": "https://localhost:8080/"
        },
        "id": "cCjvvVJ46NMQ",
        "outputId": "4a73bfce-4622-406b-f230-4373c9179356"
      },
      "execution_count": 11,
      "outputs": [
        {
          "output_type": "stream",
          "name": "stdout",
          "text": [
            "[{'Feature Count': 1, 'Selected Features': ['quartile_zone'], 'Train Error': 23428021954.723625, 'Test Error': 24594566240.336384}, {'Feature Count': 2, 'Selected Features': ['quartile_zone', 'grade'], 'Train Error': 15633815403.03254, 'Test Error': 15301687295.413305}, {'Feature Count': 3, 'Selected Features': ['quartile_zone', 'grade', 'living_in_m2'], 'Train Error': 12820384654.05958, 'Test Error': 12021119095.033855}, {'Feature Count': 4, 'Selected Features': ['quartile_zone', 'grade', 'living_in_m2', 'real_bathrooms'], 'Train Error': 12799884980.197325, 'Test Error': 12045644912.36101}, {'Feature Count': 5, 'Selected Features': ['quartile_zone', 'grade', 'living_in_m2', 'real_bathrooms', 'single_floor'], 'Train Error': 12789181251.435232, 'Test Error': 12034765065.39437}, {'Feature Count': 6, 'Selected Features': ['quartile_zone', 'grade', 'living_in_m2', 'real_bathrooms', 'single_floor', 'bedrooms'], 'Train Error': 12769062673.1985, 'Test Error': 11984733731.83403}, {'Feature Count': 7, 'Selected Features': ['quartile_zone', 'grade', 'living_in_m2', 'real_bathrooms', 'single_floor', 'bedrooms', 'has_lavatory'], 'Train Error': 12670172139.726992, 'Test Error': 11915483187.49396}, {'Feature Count': 8, 'Selected Features': ['quartile_zone', 'grade', 'living_in_m2', 'real_bathrooms', 'single_floor', 'bedrooms', 'has_lavatory', 'nice_view'], 'Train Error': 11762401075.160791, 'Test Error': 11214770435.63918}, {'Feature Count': 9, 'Selected Features': ['quartile_zone', 'grade', 'living_in_m2', 'real_bathrooms', 'single_floor', 'bedrooms', 'has_lavatory', 'nice_view', 'has_basement'], 'Train Error': 11693968239.155163, 'Test Error': 11105953658.281643}, {'Feature Count': 10, 'Selected Features': ['quartile_zone', 'grade', 'living_in_m2', 'real_bathrooms', 'single_floor', 'bedrooms', 'has_lavatory', 'nice_view', 'has_basement', 'renovated'], 'Train Error': 11542515287.561586, 'Test Error': 11030428488.536684}, {'Feature Count': 11, 'Selected Features': ['quartile_zone', 'grade', 'living_in_m2', 'real_bathrooms', 'single_floor', 'bedrooms', 'has_lavatory', 'nice_view', 'has_basement', 'renovated', 'perfect_condition'], 'Train Error': 11261083031.090002, 'Test Error': 10874406638.44206}, {'Feature Count': 12, 'Selected Features': ['quartile_zone', 'grade', 'living_in_m2', 'real_bathrooms', 'single_floor', 'bedrooms', 'has_lavatory', 'nice_view', 'has_basement', 'renovated', 'perfect_condition', 'month'], 'Train Error': 11197381062.513058, 'Test Error': 10874224015.367077}]\n"
          ]
        }
      ]
    }
  ]
}