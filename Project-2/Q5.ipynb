{
  "nbformat": 4,
  "nbformat_minor": 0,
  "metadata": {
    "colab": {
      "provenance": []
    },
    "kernelspec": {
      "name": "python3",
      "display_name": "Python 3"
    },
    "language_info": {
      "name": "python"
    }
  },
  "cells": [
    {
      "cell_type": "code",
      "execution_count": 1,
      "metadata": {
        "id": "SI10Db_9E1wS"
      },
      "outputs": [],
      "source": [
        "import numpy as np\n",
        "from math import log2"
      ]
    },
    {
      "cell_type": "code",
      "source": [
        "n, m, k = map(int, input(\"Enter n, m, k: \").split())\n",
        "X = []\n",
        "for _ in range(n):\n",
        "    X.append(list(map(int, input().split())))\n",
        "y = list(map(int, input(\"Enter the target matrix y: \").split()))"
      ],
      "metadata": {
        "colab": {
          "base_uri": "https://localhost:8080/"
        },
        "id": "-UrK5AsyM8VE",
        "outputId": "a701e4f1-91e7-4694-c49b-47c79298bec0"
      },
      "execution_count": 2,
      "outputs": [
        {
          "name": "stdout",
          "output_type": "stream",
          "text": [
            "Enter n, m, k: 5 3 2\n",
            "1 2 3\n",
            "2 3 1\n",
            "3 1 2\n",
            "1 2 1\n",
            "3 1 3\n",
            "Enter the target matrix y: 1 0 1 0 1\n"
          ]
        }
      ]
    },
    {
      "cell_type": "code",
      "source": [
        "def H1(X):\n",
        "    X = np.array(X)\n",
        "    values, counts = np.unique(X, return_counts=True)\n",
        "    probabilities = counts / len(X)\n",
        "    entropy = -np.sum(probabilities * np.log2(probabilities))\n",
        "    return entropy"
      ],
      "metadata": {
        "id": "fscbTl6XFEdg"
      },
      "execution_count": 3,
      "outputs": []
    },
    {
      "cell_type": "code",
      "source": [
        "def H2(X, Y):\n",
        "    X = np.array(X)\n",
        "    Y = np.array(Y)\n",
        "    values, counts = np.unique(np.stack((X, Y), axis=1), axis=0, return_counts=True)\n",
        "    joint_probabilities = counts / len(X)\n",
        "    joint_entropy_value = -np.sum(joint_probabilities * np.log2(joint_probabilities))\n",
        "    return joint_entropy_value"
      ],
      "metadata": {
        "id": "SLdagx5UFTJk"
      },
      "execution_count": 4,
      "outputs": []
    },
    {
      "cell_type": "code",
      "source": [
        "def I(X, Y):\n",
        "    return H1(X) + H1(Y) - H2(X, Y)"
      ],
      "metadata": {
        "id": "Kbh1zmFYFhS_"
      },
      "execution_count": 5,
      "outputs": []
    },
    {
      "cell_type": "code",
      "source": [
        "def feature_selection(X, y, k):\n",
        "    # Calculate mutual information for each feature with respect to the target\n",
        "    mutual_infos = [I(X[:, i], y) for i in range(X.shape[1])]\n",
        "    # Get indices of the top k features with highest mutual information\n",
        "    top_k_indices = np.argsort(mutual_infos)[-k:][::-1]  # Sort in descending order\n",
        "    # Convert to 1-based indexing\n",
        "    return [index + 1 for index in top_k_indices]"
      ],
      "metadata": {
        "id": "QGDrtPYBFrJx"
      },
      "execution_count": 6,
      "outputs": []
    },
    {
      "cell_type": "code",
      "source": [
        "k = 2\n",
        "X = np.array([\n",
        "    [1, 2, 3],\n",
        "    [2, 3, 1],\n",
        "    [3, 1, 2],\n",
        "    [1, 2, 1],\n",
        "    [3, 1, 3]\n",
        "])\n",
        "y = np.array([1, 0, 1, 0, 1])"
      ],
      "metadata": {
        "id": "eZUrbkOhY7iZ"
      },
      "execution_count": null,
      "outputs": []
    },
    {
      "cell_type": "code",
      "source": [
        "X = np.array(X)\n",
        "y = np.array(y)\n",
        "feature_selection(X, y, k)"
      ],
      "metadata": {
        "colab": {
          "base_uri": "https://localhost:8080/"
        },
        "id": "opcnTqZfZQSo",
        "outputId": "e93294ba-05cc-41f3-91bb-93d44eda3c00"
      },
      "execution_count": 9,
      "outputs": [
        {
          "output_type": "execute_result",
          "data": {
            "text/plain": [
              "[3, 2]"
            ]
          },
          "metadata": {},
          "execution_count": 9
        }
      ]
    }
  ]
}